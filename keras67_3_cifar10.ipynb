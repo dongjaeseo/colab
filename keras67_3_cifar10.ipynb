{
  "nbformat": 4,
  "nbformat_minor": 0,
  "metadata": {
    "colab": {
      "name": "keras67_3_cifar10.py",
      "private_outputs": true,
      "provenance": [],
      "machine_shape": "hm",
      "authorship_tag": "ABX9TyMPHI0IHIs1AE0kqIKveGAD"
    },
    "kernelspec": {
      "name": "python3",
      "display_name": "Python 3"
    },
    "accelerator": "GPU"
  },
  "cells": [
    {
      "cell_type": "code",
      "metadata": {
        "id": "l1CbFaBteEj9"
      },
      "source": [
        "# 실습 \r\n",
        "# cifar10을 flow 로 구성해서 완성\r\n",
        "# ImageDataGenerator / fit_generator 를 쓸것\r\n",
        "\r\n",
        "import numpy as np\r\n",
        "from tensorflow.keras.datasets import cifar10\r\n",
        "from tensorflow.keras.preprocessing.image import ImageDataGenerator\r\n",
        "from tensorflow.keras.models import Sequential\r\n",
        "from tensorflow.keras.layers import Dense, Conv2D, MaxPooling2D, Dropout, Flatten\r\n",
        "from sklearn.model_selection import train_test_split\r\n",
        "\r\n",
        "#1. 데이터\r\n",
        "(x_train,y_train),(x_test,y_test) = cifar10.load_data()\r\n",
        "x_train,x_val,y_train,y_val = train_test_split(x_train,y_train,train_size = 0.2)\r\n",
        "\r\n",
        "\r\n",
        "train_datagen = ImageDataGenerator(rescale = 1/255., width_shift_range=0.2, height_shift_range=0.2)\r\n",
        "test_datagen = ImageDataGenerator(rescale = 1/255.)\r\n",
        "\r\n",
        "batch = 25\r\n",
        "train_xy = train_datagen.flow(x_train,y_train,batch_size = batch)\r\n",
        "val_xy = test_datagen.flow(x_val,y_val,batch_size = batch)\r\n",
        "test_xy = test_datagen.flow(x_test,y_test,batch_size = batch)\r\n",
        "\r\n",
        "#2. 모델\r\n",
        "model = Sequential()\r\n",
        "model.add(Conv2D(128, 3, padding = 'same', activation= 'relu', input_shape = (32,32,3)))\r\n",
        "model.add(Conv2D(64, 3, padding = 'same', activation = 'relu'))\r\n",
        "model.add(Conv2D(64, 5, padding = 'same', activation = 'relu'))\r\n",
        "model.add(MaxPooling2D(3))\r\n",
        "model.add(Flatten())\r\n",
        "model.add(Dense(64, activation = 'relu'))\r\n",
        "model.add(Dense(32, activation = 'relu'))\r\n",
        "model.add(Dense(16, activation = 'relu'))\r\n",
        "model.add(Dense(10, activation = 'softmax'))\r\n",
        "\r\n",
        "#3. 컴파일 훈련\r\n",
        "from tensorflow.keras.callbacks import EarlyStopping, ReduceLROnPlateau\r\n",
        "es = EarlyStopping(patience = 10)\r\n",
        "lr = ReduceLROnPlateau(factor = 0.25, patience= 5)\r\n",
        "model.compile(loss = 'sparse_categorical_crossentropy', optimizer='adam', metrics = ['acc'])\r\n",
        "hist = model.fit_generator(train_xy, validation_data= val_xy, epochs = 1000, steps_per_epoch = 40000/batch,\r\n",
        "         validation_steps=10000/batch, callbacks = [es,lr])\r\n",
        "        \r\n",
        "#4. 평가\r\n",
        "print('accuracy : ', model.evaluate(x_test, y_test)[1])"
      ],
      "execution_count": null,
      "outputs": []
    }
  ]
}