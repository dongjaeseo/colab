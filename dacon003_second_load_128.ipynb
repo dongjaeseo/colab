{
  "nbformat": 4,
  "nbformat_minor": 0,
  "metadata": {
    "colab": {
      "name": "dacon003_second_load_128.ipynb",
      "private_outputs": true,
      "provenance": [],
      "machine_shape": "hm",
      "authorship_tag": "ABX9TyMeTLqWhtXkgDrDJnlCWkxR"
    },
    "kernelspec": {
      "name": "python3",
      "display_name": "Python 3"
    },
    "accelerator": "GPU"
  },
  "cells": [
    {
      "cell_type": "code",
      "metadata": {
        "id": "I8sQHWx2B2HM"
      },
      "source": [
        "import numpy as np\r\n",
        "from tensorflow.keras.preprocessing.image import ImageDataGenerator\r\n",
        "from tensorflow.keras.models import Model, Sequential, load_model\r\n",
        "from tensorflow.keras.layers import Dense, Conv2D, MaxPooling2D, Dropout, BatchNormalization, Flatten\r\n",
        "from sklearn.model_selection import train_test_split\r\n",
        "from tensorflow.keras.callbacks import ReduceLROnPlateau, EarlyStopping, ModelCheckpoint\r\n",
        "import string\r\n",
        "import pandas as pd\r\n",
        "import cv2\r\n",
        "    \r\n",
        "#1. 데이터\r\n",
        "x_test = np.load('/content/MyDrive/MyDrive/dacon/npy/x_test_128.npy')\r\n",
        "sub = pd.read_csv('/content/MyDrive/MyDrive/dacon/sample_submission.csv', header = 0)\r\n",
        "\r\n",
        "alphabets = ['b','c','e','h','i','j','k','m','o','p','s','u','w','x','z']\r\n",
        "\r\n",
        "for alphabet in alphabets:\r\n",
        "\r\n",
        "    model = load_model(f'/content/MyDrive/MyDrive/dacon/mcp/{alphabet}.hdf5')\r\n",
        "\r\n",
        "    y_pred = model.predict(x_test)\r\n",
        "    y_pred = np.where(y_pred<0.5,0,1)\r\n",
        "    sub.loc[:,alphabet] = y_pred\r\n",
        "\r\n",
        "sub.to_csv('/content/MyDrive/MyDrive/dacon/submission_004.csv', index = 0)"
      ],
      "execution_count": null,
      "outputs": []
    }
  ]
}