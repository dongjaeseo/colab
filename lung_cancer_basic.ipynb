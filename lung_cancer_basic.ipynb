{
  "nbformat": 4,
  "nbformat_minor": 0,
  "metadata": {
    "colab": {
      "private_outputs": true,
      "provenance": [],
      "machine_shape": "hm",
      "mount_file_id": "1op2kKxTHouxusSMCnU7JTLruqZHDwNK8",
      "authorship_tag": "ABX9TyN/mccumJY0JXwkS1cPrvzC",
      "include_colab_link": true
    },
    "kernelspec": {
      "name": "python3",
      "display_name": "Python 3"
    },
    "language_info": {
      "name": "python"
    },
    "accelerator": "GPU"
  },
  "cells": [
    {
      "cell_type": "markdown",
      "metadata": {
        "id": "view-in-github",
        "colab_type": "text"
      },
      "source": [
        "<a href=\"https://colab.research.google.com/github/dongjaeseo/colab/blob/main/lung_cancer_basic.ipynb\" target=\"_parent\"><img src=\"https://colab.research.google.com/assets/colab-badge.svg\" alt=\"Open In Colab\"/></a>"
      ]
    },
    {
      "cell_type": "code",
      "execution_count": null,
      "metadata": {
        "id": "ZPSDO2KCBPR8"
      },
      "outputs": [],
      "source": [
        "import torch\n",
        "import numpy as np\n",
        "import matplotlib.pyplot as plt\n",
        "import cv2"
      ]
    },
    {
      "cell_type": "code",
      "source": [
        "# 0, 1 masked image -> finding centroid\n",
        "def centroid(mask):\n",
        "    row_sum = 0\n",
        "    column_sum = 0\n",
        "    count = 0\n",
        "    for i, row in enumerate(mask):\n",
        "        for j, pixel in enumerate(row):\n",
        "            if pixel == 1:\n",
        "                row_sum += i\n",
        "                column_sum += j\n",
        "                count += 1\n",
        "\n",
        "    if count == 0:\n",
        "        raise TypeError(\"Wrong image input: Only masked image of 0 and 1 is allowed\")\n",
        "\n",
        "    return column_sum/count, row_sum/count"
      ],
      "metadata": {
        "id": "KggTiVFMB8uK"
      },
      "execution_count": null,
      "outputs": []
    },
    {
      "cell_type": "code",
      "source": [
        "image1 = cv2.imread('/content/drive/MyDrive/project/mask1.png', 0)\n",
        "image1 = image1/ 255.\n",
        "\n",
        "x, y = centroid(image1)\n",
        "print(image1.shape)\n",
        "\n",
        "plt.imshow(image1, cmap = 'gray')\n",
        "\n",
        "print(x, y)\n",
        "plt.plot(x, y, marker=\"o\", markersize=5, markeredgecolor=\"red\", markerfacecolor=\"green\")\n",
        "plt.show()"
      ],
      "metadata": {
        "id": "d0P7TPevZavV"
      },
      "execution_count": null,
      "outputs": []
    },
    {
      "cell_type": "code",
      "source": [
        "def find_boundary(img):"
      ],
      "metadata": {
        "id": "buHDUMZygz6f"
      },
      "execution_count": null,
      "outputs": []
    }
  ]
}