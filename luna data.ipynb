{
  "nbformat": 4,
  "nbformat_minor": 0,
  "metadata": {
    "colab": {
      "private_outputs": true,
      "provenance": [],
      "authorship_tag": "ABX9TyMCffsSDvbcOAEeYUKQfH9c",
      "include_colab_link": true
    },
    "kernelspec": {
      "name": "python3",
      "display_name": "Python 3"
    },
    "language_info": {
      "name": "python"
    }
  },
  "cells": [
    {
      "cell_type": "markdown",
      "metadata": {
        "id": "view-in-github",
        "colab_type": "text"
      },
      "source": [
        "<a href=\"https://colab.research.google.com/github/dongjaeseo/colab/blob/main/luna%20data.ipynb\" target=\"_parent\"><img src=\"https://colab.research.google.com/assets/colab-badge.svg\" alt=\"Open In Colab\"/></a>"
      ]
    },
    {
      "cell_type": "code",
      "execution_count": null,
      "metadata": {
        "id": "OK7Cf32a8TpB"
      },
      "outputs": [],
      "source": [
        "from google.colab import drive\n",
        "drive.mount('/content/drive')"
      ]
    },
    {
      "cell_type": "code",
      "source": [
        "image = '/content/drive/MyDrive/subset0/1.3.6.1.4.1.14519.5.2.1.6279.6001.105756658031515062000744821260.mhd'"
      ],
      "metadata": {
        "id": "2w9NNXZ38mr-"
      },
      "execution_count": null,
      "outputs": []
    },
    {
      "cell_type": "code",
      "source": [
        "!pip install monai\n",
        "!pip install datetime"
      ],
      "metadata": {
        "id": "1MgcJkqWCBil"
      },
      "execution_count": null,
      "outputs": []
    },
    {
      "cell_type": "code",
      "source": [
        "import numpy as np\n",
        "import json\n",
        "from datetime import datetime\n",
        "\n",
        "import torch\n",
        "from torch.optim import Adam\n",
        "from torch.utils.tensorboard import SummaryWriter\n",
        "from torch import sigmoid\n",
        "\n",
        "\n",
        "from monai.utils import set_determinism\n",
        "from monai.transforms import (\n",
        "    Compose,\n",
        "    Lambdad,\n",
        "    LoadImaged,\n",
        "    AddChanneld,\n",
        "    ScaleIntensityRanged,\n",
        "    BorderPadd,\n",
        "    RandCropByPosNegLabeld,\n",
        "    RandRotated,\n",
        "    RandZoomd,\n",
        "    AsDiscreted,\n",
        "    SelectItemsd,\n",
        "    Resized,\n",
        "    ToTensord\n",
        ")\n",
        "from monai.data import (\n",
        "    Dataset, \n",
        "    CacheDataset, \n",
        "    DataLoader, \n",
        "    partition_dataset_classes\n",
        ")\n",
        "from monai.networks.nets import UNet, VNet\n",
        "from monai.losses import DiceLoss\n",
        "from monai.metrics import compute_meandice\n",
        "from monai.inferers import SlidingWindowInferer\n",
        "\n",
        "from tqdm import trange, tqdm\n",
        "import matplotlib.pyplot as plt\n",
        "def imshow(x):\n",
        "    plt.imshow(x, cmap='gray')\n",
        "    plt.show()"
      ],
      "metadata": {
        "id": "PTg06voHCfiw"
      },
      "execution_count": null,
      "outputs": []
    },
    {
      "cell_type": "code",
      "source": [
        "pip install simpleitk"
      ],
      "metadata": {
        "id": "5i3dKe54Cklq"
      },
      "execution_count": null,
      "outputs": []
    },
    {
      "cell_type": "code",
      "source": [
        "import SimpleITK as sitk\n",
        "import numpy as np"
      ],
      "metadata": {
        "id": "hr6oBB6hDeB6"
      },
      "execution_count": null,
      "outputs": []
    },
    {
      "cell_type": "code",
      "source": [
        "def load_itk(filename):\n",
        "    # Reads the image using SimpleITK\n",
        "    itkimage = sitk.ReadImage(filename)\n",
        "\n",
        "    # Convert the image to a  numpy array first and then shuffle the dimensions to get axis in the order z,y,x\n",
        "    ct_scan = sitk.GetArrayFromImage(itkimage)\n",
        "\n",
        "    # Read the origin of the ct_scan, will be used to convert the coordinates from world to voxel and vice versa.\n",
        "    origin = np.array(list(reversed(itkimage.GetOrigin())))\n",
        "\n",
        "    # Read the spacing along each dimension\n",
        "    spacing = np.array(list(reversed(itkimage.GetSpacing())))\n",
        "\n",
        "    return ct_scan, origin, spacing"
      ],
      "metadata": {
        "id": "f-Cl1L-3Di9L"
      },
      "execution_count": null,
      "outputs": []
    },
    {
      "cell_type": "code",
      "source": [
        "path = '/content/drive/MyDrive/subset0/1.3.6.1.4.1.14519.5.2.1.6279.6001.105756658031515062000744821260.mhd'"
      ],
      "metadata": {
        "id": "tTVuQVOFDm-9"
      },
      "execution_count": null,
      "outputs": []
    },
    {
      "cell_type": "code",
      "source": [
        "ct, origin, spacing = load_itk('/content/drive/MyDrive/subset0/1.3.6.1.4.1.14519.5.2.1.6279.6001.105756658031515062000744821260.mhd')"
      ],
      "metadata": {
        "id": "AfUpftS_EjSm"
      },
      "execution_count": null,
      "outputs": []
    },
    {
      "cell_type": "code",
      "source": [
        "'''\n",
        "what does the function return\n",
        "'''\n",
        "\n",
        "print(ct.shape) # (121, 512, 512)\n",
        "print(origin) # [-335.209991 -195.       -198.100006]\n",
        "print(spacing) # [2.5        0.76171899 0.76171899]"
      ],
      "metadata": {
        "id": "t_8TGm5QE-1-"
      },
      "execution_count": null,
      "outputs": []
    }
  ]
}