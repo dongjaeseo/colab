{
  "nbformat": 4,
  "nbformat_minor": 0,
  "metadata": {
    "colab": {
      "private_outputs": true,
      "provenance": [],
      "authorship_tag": "ABX9TyOqj6y0QA6/YSue1Q21JigF"
    },
    "kernelspec": {
      "name": "python3",
      "display_name": "Python 3"
    },
    "language_info": {
      "name": "python"
    }
  },
  "cells": [
    {
      "cell_type": "code",
      "execution_count": null,
      "metadata": {
        "id": "Dk5stI_BRAZ_"
      },
      "outputs": [],
      "source": [
        "# mount your drive if needed\n",
        "from google.colab import drive\n",
        "drive.mount('/content/drive')\n",
        "DATA_ROOT = 'drive/MyDrive/medical_decathlon'"
      ]
    },
    {
      "cell_type": "code",
      "source": [
        "!pip install monai\n",
        "!pip install datetime"
      ],
      "metadata": {
        "id": "D-3g2ZbMRJAt"
      },
      "execution_count": null,
      "outputs": []
    },
    {
      "cell_type": "code",
      "source": [
        "import numpy as np\n",
        "import json\n",
        "from datetime import datetime\n",
        "\n",
        "import torch\n",
        "from torch.optim import Adam\n",
        "from torch.utils.tensorboard import SummaryWriter\n",
        "from torch import sigmoid\n",
        "\n",
        "\n",
        "from monai.utils import set_determinism\n",
        "from monai.transforms import (\n",
        "    Compose,\n",
        "    Lambdad,\n",
        "    LoadImaged,\n",
        "    AddChanneld,\n",
        "    ScaleIntensityRanged,\n",
        "    BorderPadd,\n",
        "    RandCropByPosNegLabeld,\n",
        "    RandRotated,\n",
        "    RandZoomd,\n",
        "    AsDiscreted,\n",
        "    SelectItemsd,\n",
        "    Resized,\n",
        "    ToTensord\n",
        ")\n",
        "from monai.data import (\n",
        "    Dataset, \n",
        "    CacheDataset, \n",
        "    DataLoader, \n",
        "    partition_dataset_classes\n",
        ")\n",
        "from monai.networks.nets import UNet, VNet\n",
        "from monai.losses import DiceLoss\n",
        "from monai.metrics import compute_meandice\n",
        "from monai.inferers import SlidingWindowInferer\n",
        "\n",
        "from tqdm import trange, tqdm\n",
        "import matplotlib.pyplot as plt\n",
        "def imshow(x):\n",
        "    plt.imshow(x, cmap='gray')\n",
        "    plt.show()"
      ],
      "metadata": {
        "id": "kDlLcxUDRM_z"
      },
      "execution_count": null,
      "outputs": []
    },
    {
      "cell_type": "code",
      "source": [
        "import os\n",
        "datalist = []\n",
        "\n",
        "image_list = os.listdir(f'{DATA_ROOT}/images/')\n",
        "image_list.sort()\n",
        "label_list = os.listdir(f'{DATA_ROOT}/mask/')\n",
        "label_list.sort()\n",
        "\n",
        "for i in range(len(image_list)):\n",
        "    if image_list[i] in label_list:\n",
        "        datalist.append(dict(image = f'images/{image_list[i]}', label = f'mask/{image_list[i]}'))\n",
        "\n",
        "print(datalist)"
      ],
      "metadata": {
        "id": "S29vyRTvRWXK"
      },
      "execution_count": null,
      "outputs": []
    },
    {
      "cell_type": "code",
      "source": [
        "datalist = datalist[:50]\n",
        "np.random.seed(42)\n",
        "np.random.shuffle(datalist)\n",
        "# ---- train:valid:test = 7:2:1\n",
        "\n",
        "test_ls = datalist[:10]"
      ],
      "metadata": {
        "id": "Elq-uhueRjKA"
      },
      "execution_count": null,
      "outputs": []
    },
    {
      "cell_type": "code",
      "source": [
        "# PREPROCESSING\n",
        "\n",
        "valid_trans = Compose([\n",
        "    Lambdad(\n",
        "        keys=['image', 'label'],\n",
        "        func=lambda p: f'{DATA_ROOT}/{p}'\n",
        "    ),\n",
        "    LoadImaged(keys=['image', 'label']),\n",
        "    AddChanneld(keys=['image', 'label']),\n",
        "    # Spacing(..., pixdim=[3.0, 3.0, 3.0]),\n",
        "    ScaleIntensityRanged(\n",
        "        keys=['image'],\n",
        "        a_min=-900, \n",
        "        a_max=300,\n",
        "        b_min=0,\n",
        "        b_max=1,\n",
        "        clip=True\n",
        "    ),\n",
        "    ToTensord(\n",
        "        keys=['image', 'label'],\n",
        "    )\n",
        "])\n",
        "\n",
        "test_ds = CacheDataset(\n",
        "    test_ls, \n",
        "    transform=valid_trans, \n",
        "    num_workers=2, \n",
        "    cache_rate=1.0\n",
        ")\n",
        "\n",
        "test_loader = DataLoader(test_ds, batch_size=1, num_workers=2)"
      ],
      "metadata": {
        "id": "cnnodwDbRuIM"
      },
      "execution_count": null,
      "outputs": []
    },
    {
      "cell_type": "code",
      "source": [
        "ls = train_ds[0]\n",
        "for dt in ls:\n",
        "    image = dt['image']\n",
        "    label = dt['label']\n",
        "    D = image.shape[-1]\n",
        "    image = image[0, :, :, D//2]\n",
        "    label = label[0, :, :, D//2]*image.max()\n",
        "    imshow(np.hstack([image, label]))"
      ],
      "metadata": {
        "id": "zKHCfujMTJGz"
      },
      "execution_count": null,
      "outputs": []
    },
    {
      "cell_type": "code",
      "source": [
        "set_determinism(42) \n",
        "device = torch.device('cuda' if torch.cuda.is_available() else 'cpu')\n",
        "model = UNet(\n",
        "    spatial_dims=3,\n",
        "    in_channels=1,\n",
        "    out_channels=1,\n",
        "    channels=[16, 32, 64],\n",
        "    strides=[2, 2],\n",
        "    num_res_units=0,\n",
        "    dropout=0.0\n",
        ").to(device)\n",
        "'''\n",
        "model = VNet(\n",
        "    spatial_dims=3,\n",
        "    in_channels=1,\n",
        "    out_channels=1,\n",
        "    dropout_prob=0.5,\n",
        "    dropout_dim=3,\n",
        ").to(device)\n",
        "'''\n",
        "loss = DiceLoss(sigmoid=True)\n",
        "optimizer = Adam(model.parameters(), 1e-2)\n",
        "infer = SlidingWindowInferer(\n",
        "    roi_size=(64, 64, 64),\n",
        "    sw_batch_size=8,\n",
        "    overlap=0.25,\n",
        "    mode='constant',\n",
        ")"
      ],
      "metadata": {
        "id": "vYct0CPBTDiH"
      },
      "execution_count": null,
      "outputs": []
    },
    {
      "cell_type": "code",
      "source": [
        "model.load_state_dict(torch.load('/content/drive/MyDrive/small_dataset/model', map_location=torch.device('cpu')))\n",
        "model.eval()"
      ],
      "metadata": {
        "id": "v8kJYWpkTSyI"
      },
      "execution_count": null,
      "outputs": []
    },
    {
      "cell_type": "code",
      "source": [
        "test_loss = 0\n",
        "for batch in test_loader:\n",
        "    labels = batch['label'].to(device)\n",
        "    images = batch['image'].to(device)\n",
        "    preds = infer(images, model)\n",
        "\n",
        "    _loss = 1-compute_meandice(sigmoid(preds), labels)\n",
        "    test_loss += _loss\n",
        "test_loss /= len(test_loader)\n",
        "print(f'test loss: {test_loss}')"
      ],
      "metadata": {
        "id": "G7PfTFEjTtKQ"
      },
      "execution_count": null,
      "outputs": []
    }
  ]
}